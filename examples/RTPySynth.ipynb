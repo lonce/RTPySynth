{
 "cells": [
  {
   "cell_type": "code",
   "execution_count": null,
   "id": "9f1a83e4-3f69-478f-a5ab-8968d6aba208",
   "metadata": {},
   "outputs": [],
   "source": [
    "# Play your generators here!\n",
    "# pip install sounddevice numpy ipywidgets\n",
    "\n",
    "from realtime_synth.generators import SineGenerator, NoisyLPGenerator, MyGeneratorTemplate\n",
    "from realtime_synth_ui import build_synth_ui"
   ]
  },
  {
   "cell_type": "code",
   "execution_count": null,
   "id": "be84290b-852a-449a-85b1-8a4b5a029d5b",
   "metadata": {},
   "outputs": [],
   "source": [
    "GENS = {\n",
    "    \"Sine\": lambda: SineGenerator(),\n",
    "    \"Noisy LP\": lambda: NoisyLPGenerator(),\n",
    "    \"Template\": lambda: MyGeneratorTemplate(),\n",
    "}\n",
    "\n",
    "synth, ui = build_synth_ui(GENS, samplerate=48000, blocksize=128, channels=1)"
   ]
  },
  {
   "cell_type": "code",
   "execution_count": null,
   "id": "125a4427-e528-4af6-ba94-4eb0717cf3c3",
   "metadata": {},
   "outputs": [],
   "source": []
  }
 ],
 "metadata": {
  "kernelspec": {
   "display_name": "Python 3 (ipykernel)",
   "language": "python",
   "name": "python3"
  },
  "language_info": {
   "codemirror_mode": {
    "name": "ipython",
    "version": 3
   },
   "file_extension": ".py",
   "mimetype": "text/x-python",
   "name": "python",
   "nbconvert_exporter": "python",
   "pygments_lexer": "ipython3",
   "version": "3.12.2"
  }
 },
 "nbformat": 4,
 "nbformat_minor": 5
}
